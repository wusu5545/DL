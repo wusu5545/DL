{
 "cells": [
  {
   "cell_type": "markdown",
   "id": "8d0665e6",
   "metadata": {},
   "source": [
    "## basics"
   ]
  },
  {
   "cell_type": "markdown",
   "id": "7eeae6f6",
   "metadata": {},
   "source": [
    "- references\n",
    "    - https://github.com/pytorch/examples/tree/main/reinforcement_learning\n",
    "    - https://towardsdatascience.com/understanding-actor-critic-methods-931b97b6df3f\n",
    "    - https://lilianweng.github.io/posts/2018-04-08-policy-gradient/"
   ]
  },
  {
   "cell_type": "markdown",
   "id": "4f3f3454",
   "metadata": {},
   "source": [
    "### Policy gradient"
   ]
  },
  {
   "cell_type": "markdown",
   "id": "23ecd402",
   "metadata": {
    "ExecuteTime": {
     "end_time": "2023-08-02T14:08:09.463801Z",
     "start_time": "2023-08-02T14:08:09.445731Z"
    }
   },
   "source": [
    "- REINFORCE: noisy gradients & high variance (of gradients)\n",
    "    - update the policy parameter ($\\theta$) through Monte Carlo updates (i.e. taking random samples)\n",
    "    - This introduces in inherent high variability in \n",
    "        - log probabilities (log of the policy distribution): $\\log\\pi_\\theta(𝑎_𝑡|𝑠_𝑡)$\n",
    "        - cumulative reward values: $G_t$\n",
    "    - because each trajectories during training can deviate from each other at great degrees.\n",
    "- cumulative reward == 0\n",
    "    - The essence of policy gradient is increasing the probabilities for “good” actions and decreasing those of “bad” actions in the policy distribution;\n",
    "    - both “goods” and “bad” actions with will not be learned if the cumulative reward is 0.\n",
    "\n",
    "$$\n",
    "\\nabla_\\theta J(\\theta)=\\mathbb E_\\tau[\\sum_{t=0}^{T-1}\\nabla_\\theta\\log\\pi_\\theta(a_t|s_t)G_t]\n",
    "$$"
   ]
  },
  {
   "cell_type": "markdown",
   "id": "a0cfc6b9",
   "metadata": {},
   "source": [
    "### introduce a baseline $b(s)$"
   ]
  },
  {
   "cell_type": "markdown",
   "id": "5fd3c0a8",
   "metadata": {},
   "source": [
    "$$\n",
    "\\nabla_\\theta J(\\theta)=\\mathbb E_\\tau[\\sum_{t=0}^{T-1}\\nabla_\\theta\\log\\pi_\\theta(a_t|s_t)(G_t-b(s_t))]\n",
    "$$"
   ]
  },
  {
   "cell_type": "markdown",
   "id": "bb95429f",
   "metadata": {},
   "source": [
    "### Actor Critic"
   ]
  },
  {
   "cell_type": "markdown",
   "id": "49ba68fc",
   "metadata": {},
   "source": [
    "- AC\n",
    "    - Actor: $\\pi(a|s)$\n",
    "    - Critic: $Q(s, a)$\n",
    "- Critic\n",
    "    - estimates the value function.\n",
    "        - action-value: $Q$ value\n",
    "        - state-value: $V$ value\n",
    "            - average general action value at the given state\n",
    "    - $Q_w(s_t,a_t)$ => Critic neural network，回归一个 value 值；\n",
    "        - Q Actor Critic\n",
    "- Actor\n",
    "    - The policy gradient method is also the “actor” part of Actor-Critic methods \n",
    "\n",
    "- both the Critic and Actor functions are parameterized with neural networks. "
   ]
  },
  {
   "cell_type": "markdown",
   "id": "ddc3152b",
   "metadata": {},
   "source": [
    "\n",
    "$$\n",
    "\\begin{split}\n",
    "\\nabla_\\theta J(\\theta)&=\\mathbb E_\\tau[\\sum_{t=0}^{T-1}\\nabla_\\theta\\log\\pi_\\theta(a_t|s_t)G_t]\\\\\n",
    "&=\\mathbb E_{s_0,a_0,\\cdots,s_t,a_t}[\\sum_{t=0}^{T-1}\\nabla_\\theta\\log\\pi_\\theta(a_t|s_t)] \\mathbb E_{r_{t+1},s_{t+1},\\cdots,r_T,s_T}[G_t]\\\\\n",
    "&=\\mathbb E_{s_0,a_0,\\cdots,s_t,a_t}[\\sum_{t=0}^{T-1}\\nabla_\\theta\\log\\pi_\\theta(a_t|s_t)] Q(s_t,a_t)\\\\\n",
    "&=\\mathbb E_\\tau[\\sum_{t=0}^{T-1}\\nabla_\\theta\\log\\pi_\\theta(a_t|s_t) Q_w(s_t,a_t)]\n",
    "\\end{split}\n",
    "$$"
   ]
  },
  {
   "cell_type": "markdown",
   "id": "f4aeb4c2",
   "metadata": {},
   "source": [
    "### subtract baseline"
   ]
  },
  {
   "cell_type": "markdown",
   "id": "cc792fc3",
   "metadata": {},
   "source": [
    "$$\n",
    "A(s_t,a_t) = Q_w(s_t,a_t)-V_v(s_t)\n",
    "$$\n",
    "\n",
    "- using the V function as the baseline function, \n",
    "- we subtract the $Q$ value term with the $V$ value.\n",
    "- how much better it is to take a specific action compared to the average, general action at the given state. \n",
    "    - **advantage value**"
   ]
  },
  {
   "cell_type": "markdown",
   "id": "3a672c92",
   "metadata": {},
   "source": [
    "$$\n",
    "\\begin{split}\n",
    "&Q(s_t,a_t)=\\mathbb E[r_{t+1}+\\gamma V(s_{t+1})]\\\\\n",
    "&A(s_t,a_t)=r_{t+1}+\\gamma V_v(s_{t+1})-V_v(s_t)\n",
    "\\end{split}\n",
    "$$"
   ]
  },
  {
   "cell_type": "markdown",
   "id": "f8261b90",
   "metadata": {},
   "source": [
    "### Advantage Actor Critic (A2C)"
   ]
  },
  {
   "cell_type": "markdown",
   "id": "06839e87",
   "metadata": {},
   "source": [
    "$$\n",
    "\\begin{split}\n",
    "\\nabla_\\theta J(\\theta)&=\\mathbb E_\\tau[\\sum_{t=0}^{T-1}\\nabla_\\theta\\log\\pi_\\theta(a_t|s_t) (Q_w(s_t,a_t)-V_v(s_t))]\\\\\n",
    "&=\\mathbb E_\\tau[\\sum_{t=0}^{T-1}\\nabla_\\theta\\log\\pi_\\theta(a_t|s_t) A(s_t,a_t)]\\\\\n",
    "&=\\mathbb E_\\tau[\\sum_{t=0}^{T-1}\\nabla_\\theta\\log\\pi_\\theta(a_t|s_t) \\left(r_{t+1}+\\gamma V_v(s_{t+1})-V_v(s_t)\\right)]\\\\\n",
    "&\\sim \\sum_{t=0}^{T-1}\\nabla_\\theta\\log\\pi_\\theta(a_t|s_t)A(s_t,a_t)\n",
    "\\end{split}\n",
    "$$"
   ]
  },
  {
   "cell_type": "markdown",
   "id": "84e866dc",
   "metadata": {},
   "source": [
    "## implemention"
   ]
  },
  {
   "cell_type": "code",
   "execution_count": 4,
   "id": "ca7c2b9b",
   "metadata": {
    "ExecuteTime": {
     "end_time": "2023-08-02T14:44:43.218346Z",
     "start_time": "2023-08-02T14:44:43.212181Z"
    }
   },
   "outputs": [],
   "source": [
    "#!pip install -U gym==0.15.3"
   ]
  },
  {
   "cell_type": "code",
   "execution_count": 1,
   "id": "95577b00",
   "metadata": {
    "ExecuteTime": {
     "end_time": "2023-08-14T12:23:02.885907Z",
     "start_time": "2023-08-14T12:23:01.085301Z"
    }
   },
   "outputs": [],
   "source": [
    "import sys\n",
    "import torch  \n",
    "import gym\n",
    "import numpy as np  \n",
    "import torch.nn as nn\n",
    "import torch.optim as optim\n",
    "import torch.nn.functional as F\n",
    "from torch.autograd import Variable\n",
    "import matplotlib.pyplot as plt\n",
    "import pandas as pd"
   ]
  },
  {
   "cell_type": "code",
   "execution_count": 2,
   "id": "e5e4bf5c",
   "metadata": {
    "ExecuteTime": {
     "end_time": "2023-08-14T12:23:04.055208Z",
     "start_time": "2023-08-14T12:23:04.051613Z"
    }
   },
   "outputs": [],
   "source": [
    "# hyperparameters\n",
    "hidden_size = 256\n",
    "learning_rate = 3e-4\n",
    "\n",
    "# Constants\n",
    "GAMMA = 0.99\n",
    "num_steps = 300\n",
    "max_episodes = 3000"
   ]
  },
  {
   "cell_type": "code",
   "execution_count": 3,
   "id": "7adb32c3",
   "metadata": {
    "ExecuteTime": {
     "end_time": "2023-08-14T12:23:05.500821Z",
     "start_time": "2023-08-14T12:23:05.450333Z"
    }
   },
   "outputs": [
    {
     "data": {
      "text/plain": [
       "array([0.00262747, 0.04244922, 0.03201457, 0.0220412 ])"
      ]
     },
     "execution_count": 3,
     "metadata": {},
     "output_type": "execute_result"
    }
   ],
   "source": [
    "env = gym.make(\"CartPole-v0\")\n",
    "\n",
    "# 4-d 连续\n",
    "num_inputs = env.observation_space.shape[0]\n",
    "# 左右离散\n",
    "num_actions = env.action_space.n\n",
    "env.reset()"
   ]
  },
  {
   "cell_type": "code",
   "execution_count": 4,
   "id": "920fe998",
   "metadata": {
    "ExecuteTime": {
     "end_time": "2023-08-14T12:23:08.880810Z",
     "start_time": "2023-08-14T12:23:08.869140Z"
    }
   },
   "outputs": [],
   "source": [
    "class ActorCritic(nn.Module):\n",
    "    def __init__(self, num_inputs, num_actions, hidden_size):\n",
    "        super(ActorCritic, self).__init__()\n",
    "        self.num_actions = num_actions\n",
    "        \n",
    "        # num_inputs: shape of state\n",
    "        # critic nn: state => value\n",
    "        self.critic_ln1 = nn.Linear(num_inputs, hidden_size)\n",
    "        self.critic_ln2 = nn.Linear(hidden_size, 1)\n",
    "        \n",
    "        # actor nn: state => action, policy\n",
    "        self.actor_ln1 = nn.Linear(num_inputs, hidden_size)\n",
    "        self.actor_ln2 = nn.Linear(hidden_size, num_actions)\n",
    "        \n",
    "    def forward(self, state):\n",
    "        # (4, ) => (1, 4)\n",
    "        # ndarray => Variable\n",
    "        # state = Variable(torch.from_numpy(state).float().unsqueeze(0))\n",
    "        state = torch.tensor(state, requires_grad=True, dtype=torch.float32).unsqueeze(0)\n",
    "        \n",
    "        # forward of critic network\n",
    "        # (1, 4) => (1, 256)\n",
    "        value = F.relu(self.critic_ln1(state))\n",
    "        # (1, 256) => (1, 1)\n",
    "        value = self.critic_ln2(value)\n",
    "        \n",
    "        # (1, 4) => (1, 256)\n",
    "        policy_dist = F.relu(self.actor_ln1(state))\n",
    "        # (1, 256) => (1, 2)\n",
    "        policy_dist = F.softmax(self.actor_ln2(policy_dist), dim=1)\n",
    "        return value, policy_dist"
   ]
  },
  {
   "cell_type": "code",
   "execution_count": 19,
   "id": "b67cf056",
   "metadata": {
    "ExecuteTime": {
     "end_time": "2023-08-14T12:49:34.881302Z",
     "start_time": "2023-08-14T12:49:34.874061Z"
    }
   },
   "outputs": [],
   "source": [
    "ac = ActorCritic(num_inputs, num_actions, hidden_size, )  \n",
    "ac_opt = optim.Adam(ac.parameters(), lr=learning_rate)"
   ]
  },
  {
   "cell_type": "code",
   "execution_count": 20,
   "id": "8821ac79",
   "metadata": {
    "ExecuteTime": {
     "end_time": "2023-08-14T12:51:16.845696Z",
     "start_time": "2023-08-14T12:49:37.970632Z"
    }
   },
   "outputs": [
    {
     "name": "stdout",
     "output_type": "stream",
     "text": [
      "episode: 0, reward: 15.0, steps: 14, average steps: 14.0\n",
      "episode: 100, reward: 28.0, steps: 27, average steps: 29.9\n",
      "episode: 200, reward: 38.0, steps: 37, average steps: 47.9\n",
      "episode: 300, reward: 42.0, steps: 41, average steps: 34.3\n",
      "episode: 400, reward: 53.0, steps: 52, average steps: 33.8\n",
      "episode: 500, reward: 59.0, steps: 58, average steps: 70.3\n",
      "episode: 600, reward: 74.0, steps: 73, average steps: 82.4\n",
      "episode: 700, reward: 47.0, steps: 46, average steps: 114.2\n",
      "episode: 800, reward: 181.0, steps: 180, average steps: 134.0\n",
      "episode: 900, reward: 110.0, steps: 109, average steps: 119.2\n",
      "episode: 1000, reward: 200.0, steps: 199, average steps: 143.2\n",
      "episode: 1100, reward: 99.0, steps: 98, average steps: 108.0\n",
      "episode: 1200, reward: 173.0, steps: 172, average steps: 152.3\n",
      "episode: 1300, reward: 179.0, steps: 178, average steps: 128.4\n",
      "episode: 1400, reward: 200.0, steps: 199, average steps: 130.3\n",
      "episode: 1500, reward: 162.0, steps: 161, average steps: 132.8\n",
      "episode: 1600, reward: 84.0, steps: 83, average steps: 140.9\n",
      "episode: 1700, reward: 200.0, steps: 199, average steps: 193.7\n",
      "episode: 1800, reward: 129.0, steps: 128, average steps: 135.4\n",
      "episode: 1900, reward: 126.0, steps: 125, average steps: 144.8\n",
      "episode: 2000, reward: 48.0, steps: 47, average steps: 148.7\n",
      "episode: 2100, reward: 200.0, steps: 199, average steps: 179.0\n",
      "episode: 2200, reward: 190.0, steps: 189, average steps: 196.2\n",
      "episode: 2300, reward: 200.0, steps: 199, average steps: 160.0\n",
      "episode: 2400, reward: 200.0, steps: 199, average steps: 199.0\n",
      "episode: 2500, reward: 200.0, steps: 199, average steps: 195.8\n",
      "episode: 2600, reward: 200.0, steps: 199, average steps: 193.0\n",
      "episode: 2700, reward: 200.0, steps: 199, average steps: 186.4\n",
      "episode: 2800, reward: 105.0, steps: 104, average steps: 161.9\n",
      "episode: 2900, reward: 200.0, steps: 199, average steps: 187.7\n"
     ]
    }
   ],
   "source": [
    "\n",
    "# len == max_episodes\n",
    "all_rewards = []\n",
    "all_steps = []\n",
    "ma_steps = []\n",
    "\n",
    "for episode in range(max_episodes):\n",
    "    \n",
    "    # same length\n",
    "    # index means timestamp: t\n",
    "    log_probs = [] \n",
    "    values = []\n",
    "    rewards = []\n",
    "    entropy_term = 0\n",
    "    \n",
    "    state = env.reset()\n",
    "    \n",
    "    for step in range(num_steps):\n",
    "        value, policy_dist = ac(state)\n",
    "        \n",
    "#         print(value.shape, value)\n",
    "#         print(policy_dist.shape, policy_dist)\n",
    "        \n",
    "        value = value.detach().numpy()[0, 0]\n",
    "        dist = policy_dist.detach().numpy()\n",
    "        \n",
    "#         print(value.shape, value)\n",
    "#         print(dist.shape, dist)\n",
    "        \n",
    "        # 概率化地选择，[0/1]\n",
    "        action = np.random.choice(num_actions, p=np.squeeze(dist))\n",
    "        log_prob = torch.log(policy_dist.squeeze(0)[action])\n",
    "        \n",
    "        new_state, reward, done, _ = env.step(action)\n",
    "        \n",
    "        rewards.append(reward)\n",
    "        values.append(value)\n",
    "        log_probs.append(log_prob)\n",
    "        \n",
    "        entropy_term += -np.sum(dist * np.log(dist))\n",
    "#         print(dist, np.log(dist), entropy_term)\n",
    "        \n",
    "        state = new_state\n",
    "        \n",
    "        if done or step == num_steps - 1:\n",
    "            q_value, _ = ac(new_state)\n",
    "            q_value = q_value.detach().numpy()[0, 0]\n",
    "            all_rewards.append(np.sum(rewards))\n",
    "            all_steps.append(step)\n",
    "            ma_steps.append(np.mean(all_steps[-10:]))\n",
    "            if episode % 100 == 0:\n",
    "                print(f'episode: {episode}, reward: {np.sum(rewards)}, steps: {step}, average steps: {ma_steps[-1]}')\n",
    "            break\n",
    "                \n",
    "    # 收集训练数据\n",
    "    q_values = np.zeros_like(values)\n",
    "    for t in range(len(values))[::-1]:\n",
    "        # discounted reward\n",
    "        # 只跟 final value 有关\n",
    "        q_value = rewards[-1] + GAMMA * q_value\n",
    "        q_values[t] = q_value\n",
    "    \n",
    "    values = torch.FloatTensor(values)\n",
    "    q_values = torch.FloatTensor(q_values)\n",
    "    log_probs = torch.stack(log_probs)\n",
    "#     print(values.shape, q_values.shape, log_probs.shape)\n",
    "    advantage = q_values - values\n",
    "    \n",
    "    # scalar objective to minimize\n",
    "    actor_loss = -(log_probs*advantage).mean()\n",
    "    critic_loss = 0.5*advantage.pow(2).mean()\n",
    "    loss = actor_loss + critic_loss + 0.001*entropy_term\n",
    "    \n",
    "    ac_opt.zero_grad()\n",
    "    loss.backward()\n",
    "    ac_opt.step()"
   ]
  },
  {
   "cell_type": "code",
   "execution_count": 27,
   "id": "ec50f7eb",
   "metadata": {
    "ExecuteTime": {
     "end_time": "2023-08-14T12:53:59.718552Z",
     "start_time": "2023-08-14T12:53:59.492891Z"
    }
   },
   "outputs": [
    {
     "data": {
      "text/plain": [
       "[<matplotlib.lines.Line2D at 0x7f4cd00fbbb0>]"
      ]
     },
     "execution_count": 27,
     "metadata": {},
     "output_type": "execute_result"
    },
    {
     "data": {
      "image/png": "[encoded data removed]",
      "text/plain": [
       "<Figure size 640x480 with 1 Axes>"
      ]
     },
     "metadata": {},
     "output_type": "display_data"
    }
   ],
   "source": [
    "import pandas as pd\n",
    "import matplotlib.pyplot as plt\n",
    "ma_rewards = pd.Series.rolling(pd.Series(all_rewards), 10).mean()\n",
    "plt.plot([r for r in ma_rewards])\n",
    "# plt.plot(all_rewards)\n",
    "# plt.plot()"
   ]
  },
  {
   "cell_type": "code",
   "execution_count": null,
   "id": "0cc63d5a",
   "metadata": {},
   "outputs": [],
   "source": []
  }
 ],
 "metadata": {
  "kernelspec": {
   "display_name": "Python 3 (ipykernel)",
   "language": "python",
   "name": "python3"
  },
  "language_info": {
   "codemirror_mode": {
    "name": "ipython",
    "version": 3
   },
   "file_extension": ".py",
   "mimetype": "text/x-python",
   "name": "python",
   "nbconvert_exporter": "python",
   "pygments_lexer": "ipython3",
   "version": "3.10.9"
  },
  "toc": {
   "base_numbering": 1,
   "nav_menu": {},
   "number_sections": true,
   "sideBar": true,
   "skip_h1_title": false,
   "title_cell": "Table of Contents",
   "title_sidebar": "Contents",
   "toc_cell": false,
   "toc_position": {
    "height": "calc(100% - 180px)",
    "left": "10px",
    "top": "150px",
    "width": "336px"
   },
   "toc_section_display": true,
   "toc_window_display": true
  }
 },
 "nbformat": 4,
 "nbformat_minor": 5
}
